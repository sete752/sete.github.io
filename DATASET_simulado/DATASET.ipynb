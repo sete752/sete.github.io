{
 "cells": [
  {
   "cell_type": "code",
   "execution_count": 1,
   "id": "29268b3a",
   "metadata": {},
   "outputs": [],
   "source": [
    "import pandas as pd\n",
    "import matplotlib.pyplot as plt\n",
    "import seaborn as sns"
   ]
  },
  {
   "cell_type": "code",
   "execution_count": 2,
   "id": "d918f140",
   "metadata": {},
   "outputs": [
    {
     "data": {
      "text/html": [
       "<div>\n",
       "<style scoped>\n",
       "    .dataframe tbody tr th:only-of-type {\n",
       "        vertical-align: middle;\n",
       "    }\n",
       "\n",
       "    .dataframe tbody tr th {\n",
       "        vertical-align: top;\n",
       "    }\n",
       "\n",
       "    .dataframe thead th {\n",
       "        text-align: right;\n",
       "    }\n",
       "</style>\n",
       "<table border=\"1\" class=\"dataframe\">\n",
       "  <thead>\n",
       "    <tr style=\"text-align: right;\">\n",
       "      <th></th>\n",
       "      <th>order_id</th>\n",
       "      <th>date</th>\n",
       "      <th>product</th>\n",
       "      <th>category</th>\n",
       "      <th>quantity</th>\n",
       "      <th>price_per_unit</th>\n",
       "      <th>customer</th>\n",
       "      <th>region</th>\n",
       "    </tr>\n",
       "  </thead>\n",
       "  <tbody>\n",
       "    <tr>\n",
       "      <th>0</th>\n",
       "      <td>ORD1000</td>\n",
       "      <td>2024-06-25</td>\n",
       "      <td>Cama para gato</td>\n",
       "      <td>Descanso</td>\n",
       "      <td>3</td>\n",
       "      <td>27.71</td>\n",
       "      <td>Cliente_1</td>\n",
       "      <td>Sevilla</td>\n",
       "    </tr>\n",
       "    <tr>\n",
       "      <th>1</th>\n",
       "      <td>ORD1001</td>\n",
       "      <td>2024-10-23</td>\n",
       "      <td>Rascador</td>\n",
       "      <td>Accesorios</td>\n",
       "      <td>10</td>\n",
       "      <td>34.09</td>\n",
       "      <td>Cliente_19</td>\n",
       "      <td>Bilbao</td>\n",
       "    </tr>\n",
       "    <tr>\n",
       "      <th>2</th>\n",
       "      <td>ORD1002</td>\n",
       "      <td>2024-09-25</td>\n",
       "      <td>Pienso Premium</td>\n",
       "      <td>Alimentación</td>\n",
       "      <td>1</td>\n",
       "      <td>47.96</td>\n",
       "      <td>Cliente_23</td>\n",
       "      <td>Bilbao</td>\n",
       "    </tr>\n",
       "    <tr>\n",
       "      <th>3</th>\n",
       "      <td>ORD1003</td>\n",
       "      <td>2024-03-12</td>\n",
       "      <td>Cama para gato</td>\n",
       "      <td>Descanso</td>\n",
       "      <td>3</td>\n",
       "      <td>41.01</td>\n",
       "      <td>Cliente_42</td>\n",
       "      <td>Bilbao</td>\n",
       "    </tr>\n",
       "    <tr>\n",
       "      <th>4</th>\n",
       "      <td>ORD1004</td>\n",
       "      <td>2024-10-26</td>\n",
       "      <td>Snacks saludables</td>\n",
       "      <td>Alimentación</td>\n",
       "      <td>4</td>\n",
       "      <td>39.29</td>\n",
       "      <td>Cliente_52</td>\n",
       "      <td>Sevilla</td>\n",
       "    </tr>\n",
       "  </tbody>\n",
       "</table>\n",
       "</div>"
      ],
      "text/plain": [
       "  order_id        date            product      category  quantity  \\\n",
       "0  ORD1000  2024-06-25     Cama para gato      Descanso         3   \n",
       "1  ORD1001  2024-10-23           Rascador    Accesorios        10   \n",
       "2  ORD1002  2024-09-25     Pienso Premium  Alimentación         1   \n",
       "3  ORD1003  2024-03-12     Cama para gato      Descanso         3   \n",
       "4  ORD1004  2024-10-26  Snacks saludables  Alimentación         4   \n",
       "\n",
       "   price_per_unit    customer   region  \n",
       "0           27.71   Cliente_1  Sevilla  \n",
       "1           34.09  Cliente_19   Bilbao  \n",
       "2           47.96  Cliente_23   Bilbao  \n",
       "3           41.01  Cliente_42   Bilbao  \n",
       "4           39.29  Cliente_52  Sevilla  "
      ]
     },
     "execution_count": 2,
     "metadata": {},
     "output_type": "execute_result"
    }
   ],
   "source": [
    "df=pd.read_csv('ventas_tienda.csv')\n",
    "df.head()"
   ]
  },
  {
   "cell_type": "markdown",
   "id": "612d9dde",
   "metadata": {},
   "source": [
    "### LIMPIEZA DE DATOS Y EXPLORACIÓN BÁSICA"
   ]
  },
  {
   "cell_type": "code",
   "execution_count": 3,
   "id": "6711ce11",
   "metadata": {},
   "outputs": [
    {
     "name": "stdout",
     "output_type": "stream",
     "text": [
      "<class 'pandas.core.frame.DataFrame'>\n",
      "RangeIndex: 500 entries, 0 to 499\n",
      "Data columns (total 8 columns):\n",
      " #   Column          Non-Null Count  Dtype  \n",
      "---  ------          --------------  -----  \n",
      " 0   order_id        500 non-null    object \n",
      " 1   date            500 non-null    object \n",
      " 2   product         500 non-null    object \n",
      " 3   category        500 non-null    object \n",
      " 4   quantity        500 non-null    int64  \n",
      " 5   price_per_unit  500 non-null    float64\n",
      " 6   customer        500 non-null    object \n",
      " 7   region          500 non-null    object \n",
      "dtypes: float64(1), int64(1), object(6)\n",
      "memory usage: 31.4+ KB\n"
     ]
    }
   ],
   "source": [
    "df.info()"
   ]
  },
  {
   "cell_type": "markdown",
   "id": "dbcfdf23",
   "metadata": {},
   "source": [
    "Comprobamos valores nulos"
   ]
  },
  {
   "cell_type": "code",
   "execution_count": 5,
   "id": "20c7962e",
   "metadata": {},
   "outputs": [
    {
     "data": {
      "text/plain": [
       "order_id          0\n",
       "date              0\n",
       "product           0\n",
       "category          0\n",
       "quantity          0\n",
       "price_per_unit    0\n",
       "customer          0\n",
       "region            0\n",
       "dtype: int64"
      ]
     },
     "execution_count": 5,
     "metadata": {},
     "output_type": "execute_result"
    }
   ],
   "source": [
    "df.isnull().sum()"
   ]
  },
  {
   "cell_type": "markdown",
   "id": "96452c8e",
   "metadata": {},
   "source": [
    "Convertimos la columna 'date' a tipo fecha"
   ]
  },
  {
   "cell_type": "code",
   "execution_count": 6,
   "id": "5e4d09a9",
   "metadata": {},
   "outputs": [],
   "source": [
    "df['date']=pd.to_datetime(df['date'])"
   ]
  },
  {
   "cell_type": "code",
   "execution_count": 7,
   "id": "c885588d",
   "metadata": {},
   "outputs": [
    {
     "name": "stdout",
     "output_type": "stream",
     "text": [
      "<class 'pandas.core.frame.DataFrame'>\n",
      "RangeIndex: 500 entries, 0 to 499\n",
      "Data columns (total 8 columns):\n",
      " #   Column          Non-Null Count  Dtype         \n",
      "---  ------          --------------  -----         \n",
      " 0   order_id        500 non-null    object        \n",
      " 1   date            500 non-null    datetime64[ns]\n",
      " 2   product         500 non-null    object        \n",
      " 3   category        500 non-null    object        \n",
      " 4   quantity        500 non-null    int64         \n",
      " 5   price_per_unit  500 non-null    float64       \n",
      " 6   customer        500 non-null    object        \n",
      " 7   region          500 non-null    object        \n",
      "dtypes: datetime64[ns](1), float64(1), int64(1), object(5)\n",
      "memory usage: 31.4+ KB\n"
     ]
    }
   ],
   "source": [
    "df.info()\n"
   ]
  },
  {
   "cell_type": "markdown",
   "id": "776032be",
   "metadata": {},
   "source": [
    "Añadimos una columna de ingresos (precioxcantidad)"
   ]
  },
  {
   "cell_type": "code",
   "execution_count": 8,
   "id": "fe36c8f9",
   "metadata": {},
   "outputs": [],
   "source": [
    "df['total_sales']=df['quantity']*df['price_per_unit']"
   ]
  },
  {
   "cell_type": "markdown",
   "id": "8cb809ae",
   "metadata": {},
   "source": [
    "### ANALISIS DE VENTAS TOTALES"
   ]
  },
  {
   "cell_type": "code",
   "execution_count": 11,
   "id": "95ab5c7a",
   "metadata": {},
   "outputs": [
    {
     "name": "stdout",
     "output_type": "stream",
     "text": [
      "Ventas totales: 137337.32\n"
     ]
    }
   ],
   "source": [
    "print('Ventas totales:',df['total_sales'].sum())"
   ]
  },
  {
   "cell_type": "code",
   "execution_count": 13,
   "id": "b1d22f13",
   "metadata": {},
   "outputs": [],
   "source": [
    "df['month']=df['date'].dt.to_period('M')\n",
    "ventas_mensuales=df.groupby('month')['total_sales'].sum()"
   ]
  },
  {
   "cell_type": "code",
   "execution_count": 14,
   "id": "ed1598e6",
   "metadata": {},
   "outputs": [
    {
     "data": {
      "text/plain": [
       "month\n",
       "2024-01    13628.80\n",
       "2024-02    12210.04\n",
       "2024-03     9283.02\n",
       "2024-04    12931.99\n",
       "2024-05    12006.86\n",
       "2024-06    11171.71\n",
       "2024-07     8252.51\n",
       "2024-08     7572.88\n",
       "2024-09    12104.30\n",
       "2024-10    13440.36\n",
       "2024-11    11845.32\n",
       "2024-12    12889.53\n",
       "Freq: M, Name: total_sales, dtype: float64"
      ]
     },
     "execution_count": 14,
     "metadata": {},
     "output_type": "execute_result"
    }
   ],
   "source": [
    "ventas_mensuales"
   ]
  },
  {
   "cell_type": "code",
   "execution_count": 16,
   "id": "1846c3ad",
   "metadata": {},
   "outputs": [
    {
     "data": {
      "image/png": "[encoded data removed]",
      "text/plain": [
       "<Figure size 1200x500 with 1 Axes>"
      ]
     },
     "metadata": {},
     "output_type": "display_data"
    }
   ],
   "source": [
    "ventas_mensuales.plot(kind='bar',figsize=(12,5),title='Ventas mensuales')\n",
    "plt.ylabel('€')\n",
    "plt.xlabel('Mes')\n",
    "plt.xticks(rotation=45)\n",
    "plt.tight_layout()\n",
    "plt.show()"
   ]
  },
  {
   "cell_type": "markdown",
   "id": "01341936",
   "metadata": {},
   "source": [
    "### PRODUCTOS MAS VENDIDOS"
   ]
  },
  {
   "cell_type": "code",
   "execution_count": 18,
   "id": "bd6ccc40",
   "metadata": {},
   "outputs": [],
   "source": [
    "top_productos=df.groupby('product')['quantity'].sum().sort_values(ascending=False)"
   ]
  },
  {
   "cell_type": "code",
   "execution_count": 19,
   "id": "232acd80",
   "metadata": {},
   "outputs": [
    {
     "data": {
      "text/plain": [
       "product\n",
       "Rascador              487\n",
       "Pienso Premium        402\n",
       "Collar LED            394\n",
       "Snacks saludables     386\n",
       "Cama para gato        373\n",
       "Arena sanitaria       351\n",
       "Juguete para perro    333\n",
       "Name: quantity, dtype: int64"
      ]
     },
     "execution_count": 19,
     "metadata": {},
     "output_type": "execute_result"
    }
   ],
   "source": [
    "top_productos"
   ]
  },
  {
   "cell_type": "code",
   "execution_count": 20,
   "id": "3636a0de",
   "metadata": {},
   "outputs": [
    {
     "data": {
      "image/png": "[encoded data removed]",
      "text/plain": [
       "<Figure size 1000x400 with 1 Axes>"
      ]
     },
     "metadata": {},
     "output_type": "display_data"
    }
   ],
   "source": [
    "top_productos.plot(kind='bar',figsize=(10,4), title='Productos más vendidos')\n",
    "plt.ylabel('Unidades vendidas')\n",
    "plt.xticks(rotation=45)\n",
    "plt.tight_layout()\n",
    "plt.show()"
   ]
  },
  {
   "cell_type": "markdown",
   "id": "cd52545c",
   "metadata": {},
   "source": [
    "## Clientes y regiones más importantes"
   ]
  },
  {
   "cell_type": "code",
   "execution_count": 22,
   "id": "ba80234f",
   "metadata": {},
   "outputs": [
    {
     "data": {
      "text/plain": [
       "customer\n",
       "Cliente_37    5363.05\n",
       "Cliente_68    3294.61\n",
       "Cliente_5     3129.90\n",
       "Cliente_8     2787.48\n",
       "Cliente_38    2742.57\n",
       "Cliente_12    2642.01\n",
       "Cliente_35    2635.52\n",
       "Cliente_54    2559.03\n",
       "Cliente_82    2470.33\n",
       "Cliente_64    2436.51\n",
       "Name: total_sales, dtype: float64"
      ]
     },
     "execution_count": 22,
     "metadata": {},
     "output_type": "execute_result"
    }
   ],
   "source": [
    "top_clientes=df.groupby('customer')['total_sales'].sum().sort_values(ascending=False).head(10)\n",
    "top_clientes"
   ]
  },
  {
   "cell_type": "code",
   "execution_count": 24,
   "id": "d7151342",
   "metadata": {},
   "outputs": [
    {
     "data": {
      "text/plain": [
       "region\n",
       "Sevilla      32098.46\n",
       "Barcelona    28312.59\n",
       "Madrid       27175.81\n",
       "Valencia     25788.07\n",
       "Bilbao       23962.39\n",
       "Name: total_sales, dtype: float64"
      ]
     },
     "execution_count": 24,
     "metadata": {},
     "output_type": "execute_result"
    }
   ],
   "source": [
    "top_regiones=df.groupby('region')['total_sales'].sum().sort_values(ascending=False).head(10)\n",
    "top_regiones"
   ]
  },
  {
   "cell_type": "code",
   "execution_count": 23,
   "id": "ea83aa6e",
   "metadata": {},
   "outputs": [
    {
     "data": {
      "text/plain": [
       "region\n",
       "Sevilla      32098.46\n",
       "Barcelona    28312.59\n",
       "Madrid       27175.81\n",
       "Valencia     25788.07\n",
       "Bilbao       23962.39\n",
       "Name: total_sales, dtype: float64"
      ]
     },
     "execution_count": 23,
     "metadata": {},
     "output_type": "execute_result"
    }
   ],
   "source": [
    "top_regiones=df.groupby('region')['total_sales'].sum().sort_values(ascending=False).head(10)\n",
    "top_regiones"
   ]
  },
  {
   "cell_type": "code",
   "execution_count": 31,
   "id": "0f280176",
   "metadata": {},
   "outputs": [
    {
     "data": {
      "image/png": "[encoded data removed]",
      "text/plain": [
       "<Figure size 600x600 with 1 Axes>"
      ]
     },
     "metadata": {},
     "output_type": "display_data"
    }
   ],
   "source": [
    "top_regiones.plot(kind='pie',autopct='%1.1f%%', title='Ventas por region',figsize=(6,6))\n",
    "plt.ylabel(\"\")\n",
    "plt.tight_layout()\n",
    "plt.show()"
   ]
  },
  {
   "cell_type": "code",
   "execution_count": 34,
   "id": "ff374e16",
   "metadata": {},
   "outputs": [
    {
     "data": {
      "text/html": [
       "<div>\n",
       "<style scoped>\n",
       "    .dataframe tbody tr th:only-of-type {\n",
       "        vertical-align: middle;\n",
       "    }\n",
       "\n",
       "    .dataframe tbody tr th {\n",
       "        vertical-align: top;\n",
       "    }\n",
       "\n",
       "    .dataframe thead th {\n",
       "        text-align: right;\n",
       "    }\n",
       "</style>\n",
       "<table border=\"1\" class=\"dataframe\">\n",
       "  <thead>\n",
       "    <tr style=\"text-align: right;\">\n",
       "      <th></th>\n",
       "      <th></th>\n",
       "      <th>quantity</th>\n",
       "      <th>total_sales</th>\n",
       "    </tr>\n",
       "    <tr>\n",
       "      <th>product</th>\n",
       "      <th>category</th>\n",
       "      <th></th>\n",
       "      <th></th>\n",
       "    </tr>\n",
       "  </thead>\n",
       "  <tbody>\n",
       "    <tr>\n",
       "      <th>Pienso Premium</th>\n",
       "      <th>Alimentación</th>\n",
       "      <td>402</td>\n",
       "      <td>22738.68</td>\n",
       "    </tr>\n",
       "    <tr>\n",
       "      <th>Rascador</th>\n",
       "      <th>Accesorios</th>\n",
       "      <td>487</td>\n",
       "      <td>22461.28</td>\n",
       "    </tr>\n",
       "    <tr>\n",
       "      <th>Cama para gato</th>\n",
       "      <th>Descanso</th>\n",
       "      <td>373</td>\n",
       "      <td>21468.87</td>\n",
       "    </tr>\n",
       "    <tr>\n",
       "      <th>Juguete para perro</th>\n",
       "      <th>Accesorios</th>\n",
       "      <td>333</td>\n",
       "      <td>18425.13</td>\n",
       "    </tr>\n",
       "    <tr>\n",
       "      <th>Snacks saludables</th>\n",
       "      <th>Alimentación</th>\n",
       "      <td>386</td>\n",
       "      <td>17974.14</td>\n",
       "    </tr>\n",
       "    <tr>\n",
       "      <th>Collar LED</th>\n",
       "      <th>Accesorios</th>\n",
       "      <td>394</td>\n",
       "      <td>17859.16</td>\n",
       "    </tr>\n",
       "    <tr>\n",
       "      <th>Arena sanitaria</th>\n",
       "      <th>Higiene</th>\n",
       "      <td>351</td>\n",
       "      <td>16410.06</td>\n",
       "    </tr>\n",
       "  </tbody>\n",
       "</table>\n",
       "</div>"
      ],
      "text/plain": [
       "                                 quantity  total_sales\n",
       "product            category                           \n",
       "Pienso Premium     Alimentación       402     22738.68\n",
       "Rascador           Accesorios         487     22461.28\n",
       "Cama para gato     Descanso           373     21468.87\n",
       "Juguete para perro Accesorios         333     18425.13\n",
       "Snacks saludables  Alimentación       386     17974.14\n",
       "Collar LED         Accesorios         394     17859.16\n",
       "Arena sanitaria    Higiene            351     16410.06"
      ]
     },
     "execution_count": 34,
     "metadata": {},
     "output_type": "execute_result"
    }
   ],
   "source": [
    "resumen=df.groupby(['product','category']).agg({\n",
    "    'quantity': 'sum',\n",
    "    'total_sales': 'sum'\n",
    "}).sort_values(by='total_sales',ascending=False)\n",
    "resumen"
   ]
  },
  {
   "cell_type": "code",
   "execution_count": 35,
   "id": "bf4b5997",
   "metadata": {},
   "outputs": [],
   "source": [
    "resumen.to_excel('resumen_ventas.xlsx')"
   ]
  },
  {
   "cell_type": "code",
   "execution_count": null,
   "id": "91354909",
   "metadata": {},
   "outputs": [],
   "source": []
  }
 ],
 "metadata": {
  "kernelspec": {
   "display_name": "Python 3 (ipykernel)",
   "language": "python",
   "name": "python3"
  },
  "language_info": {
   "codemirror_mode": {
    "name": "ipython",
    "version": 3
   },
   "file_extension": ".py",
   "mimetype": "text/x-python",
   "name": "python",
   "nbconvert_exporter": "python",
   "pygments_lexer": "ipython3",
   "version": "3.11.7"
  }
 },
 "nbformat": 4,
 "nbformat_minor": 5
}
